{
 "cells": [
  {
   "cell_type": "code",
   "execution_count": 8,
   "metadata": {},
   "outputs": [
    {
     "ename": "ModuleNotFoundError",
     "evalue": "No module named 'numpy'",
     "output_type": "error",
     "traceback": [
      "\u001b[0;31m---------------------------------------------------------------------------\u001b[0m",
      "\u001b[0;31mModuleNotFoundError\u001b[0m                       Traceback (most recent call last)",
      "Cell \u001b[0;32mIn[8], line 1\u001b[0m\n\u001b[0;32m----> 1\u001b[0m \u001b[38;5;28;01mimport\u001b[39;00m \u001b[38;5;21;01mnumpy\u001b[39;00m \u001b[38;5;28;01mas\u001b[39;00m \u001b[38;5;21;01mnp\u001b[39;00m\n\u001b[1;32m      3\u001b[0m \u001b[38;5;28;01mfrom\u001b[39;00m \u001b[38;5;21;01mdata\u001b[39;00m \u001b[38;5;28;01mimport\u001b[39;00m \u001b[38;5;241m*\u001b[39m\n\u001b[1;32m      7\u001b[0m \u001b[38;5;28;01mfrom\u001b[39;00m \u001b[38;5;21;01mscipy\u001b[39;00m\u001b[38;5;21;01m.\u001b[39;00m\u001b[38;5;21;01mio\u001b[39;00m \u001b[38;5;28;01mimport\u001b[39;00m wavfile\n",
      "\u001b[0;31mModuleNotFoundError\u001b[0m: No module named 'numpy'"
     ]
    }
   ],
   "source": [
    "import numpy as np\n",
    "\n",
    "from data import *\n",
    "\n",
    "\n",
    "\n",
    "from scipy.io import wavfile\n",
    "\n",
    "import matplotlib.pyplot as plt\n"
   ]
  },
  {
   "cell_type": "code",
   "execution_count": 12,
   "metadata": {},
   "outputs": [],
   "source": [
    "vocales = [\"a.wav\", \"e.wav\", \"i.wav\", \"o.wav\", \"u.wav\"]\n",
    "consonantes = [\"f.wav\", \"j.wav\", \"s.wav\", \"sh.wav\"]\n",
    "\n"
   ]
  },
  {
   "cell_type": "code",
   "execution_count": null,
   "metadata": {},
   "outputs": [
    {
     "ename": "ValueError",
     "evalue": "WAV header is invalid: nAvgBytesPerSec must equal product of nSamplesPerSec and nBlockAlign, but file has nSamplesPerSec = 14700, nBlockAlign = 0, and nAvgBytesPerSec = 1925038063",
     "output_type": "error",
     "traceback": [
      "\u001b[0;31m---------------------------------------------------------------------------\u001b[0m",
      "\u001b[0;31mValueError\u001b[0m                                Traceback (most recent call last)",
      "Cell \u001b[0;32mIn[16], line 54\u001b[0m\n\u001b[1;32m     51\u001b[0m         \u001b[38;5;28;01mreturn\u001b[39;00m \u001b[38;5;28;01mFalse\u001b[39;00m\n\u001b[1;32m     53\u001b[0m \u001b[38;5;28;01mfor\u001b[39;00m vocal \u001b[38;5;129;01min\u001b[39;00m vocales:\n\u001b[0;32m---> 54\u001b[0m     \u001b[43mgraficar_señal\u001b[49m\u001b[43m(\u001b[49m\u001b[43mvocal\u001b[49m\u001b[43m)\u001b[49m\n\u001b[1;32m     55\u001b[0m \u001b[38;5;28;01mfor\u001b[39;00m consonante \u001b[38;5;129;01min\u001b[39;00m consonantes:\n\u001b[1;32m     56\u001b[0m     graficar_señal(consonante)\n",
      "Cell \u001b[0;32mIn[16], line 2\u001b[0m, in \u001b[0;36mgraficar_señal\u001b[0;34m(señal)\u001b[0m\n\u001b[1;32m      1\u001b[0m \u001b[38;5;28;01mdef\u001b[39;00m \u001b[38;5;21mgraficar_señal\u001b[39m(señal):\n\u001b[0;32m----> 2\u001b[0m     frecuencia_muestreo, datos  \u001b[38;5;241m=\u001b[39m \u001b[43mwavfile\u001b[49m\u001b[38;5;241;43m.\u001b[39;49m\u001b[43mread\u001b[49m\u001b[43m(\u001b[49m\u001b[43mseñal\u001b[49m\u001b[43m)\u001b[49m\n\u001b[1;32m      3\u001b[0m     duracion \u001b[38;5;241m=\u001b[39m \u001b[38;5;241m200\u001b[39m \u001b[38;5;66;03m# milisegundos\u001b[39;00m\n\u001b[1;32m      4\u001b[0m     num_muestras \u001b[38;5;241m=\u001b[39m \u001b[38;5;28mint\u001b[39m(frecuencia_muestreo \u001b[38;5;241m*\u001b[39m duracion \u001b[38;5;241m/\u001b[39m \u001b[38;5;241m1000\u001b[39m)\n",
      "File \u001b[0;32m/Library/Frameworks/Python.framework/Versions/3.12/lib/python3.12/site-packages/scipy/io/wavfile.py:679\u001b[0m, in \u001b[0;36mread\u001b[0;34m(filename, mmap)\u001b[0m\n\u001b[1;32m    677\u001b[0m \u001b[38;5;28;01mif\u001b[39;00m chunk_id \u001b[38;5;241m==\u001b[39m \u001b[38;5;124mb\u001b[39m\u001b[38;5;124m'\u001b[39m\u001b[38;5;124mfmt \u001b[39m\u001b[38;5;124m'\u001b[39m:\n\u001b[1;32m    678\u001b[0m     fmt_chunk_received \u001b[38;5;241m=\u001b[39m \u001b[38;5;28;01mTrue\u001b[39;00m\n\u001b[0;32m--> 679\u001b[0m     fmt_chunk \u001b[38;5;241m=\u001b[39m \u001b[43m_read_fmt_chunk\u001b[49m\u001b[43m(\u001b[49m\u001b[43mfid\u001b[49m\u001b[43m,\u001b[49m\u001b[43m \u001b[49m\u001b[43mis_big_endian\u001b[49m\u001b[43m)\u001b[49m\n\u001b[1;32m    680\u001b[0m     format_tag, channels, fs \u001b[38;5;241m=\u001b[39m fmt_chunk[\u001b[38;5;241m1\u001b[39m:\u001b[38;5;241m4\u001b[39m]\n\u001b[1;32m    681\u001b[0m     bit_depth \u001b[38;5;241m=\u001b[39m fmt_chunk[\u001b[38;5;241m6\u001b[39m]\n",
      "File \u001b[0;32m/Library/Frameworks/Python.framework/Versions/3.12/lib/python3.12/site-packages/scipy/io/wavfile.py:389\u001b[0m, in \u001b[0;36m_read_fmt_chunk\u001b[0;34m(fid, is_big_endian)\u001b[0m\n\u001b[1;32m    387\u001b[0m \u001b[38;5;28;01mif\u001b[39;00m format_tag \u001b[38;5;241m==\u001b[39m WAVE_FORMAT\u001b[38;5;241m.\u001b[39mPCM:\n\u001b[1;32m    388\u001b[0m     \u001b[38;5;28;01mif\u001b[39;00m bytes_per_second \u001b[38;5;241m!=\u001b[39m fs \u001b[38;5;241m*\u001b[39m block_align:\n\u001b[0;32m--> 389\u001b[0m         \u001b[38;5;28;01mraise\u001b[39;00m \u001b[38;5;167;01mValueError\u001b[39;00m(\u001b[38;5;124m\"\u001b[39m\u001b[38;5;124mWAV header is invalid: nAvgBytesPerSec must\u001b[39m\u001b[38;5;124m\"\u001b[39m\n\u001b[1;32m    390\u001b[0m                          \u001b[38;5;124m\"\u001b[39m\u001b[38;5;124m equal product of nSamplesPerSec and\u001b[39m\u001b[38;5;124m\"\u001b[39m\n\u001b[1;32m    391\u001b[0m                          \u001b[38;5;124m\"\u001b[39m\u001b[38;5;124m nBlockAlign, but file has nSamplesPerSec =\u001b[39m\u001b[38;5;124m\"\u001b[39m\n\u001b[1;32m    392\u001b[0m                          \u001b[38;5;124mf\u001b[39m\u001b[38;5;124m\"\u001b[39m\u001b[38;5;124m \u001b[39m\u001b[38;5;132;01m{\u001b[39;00mfs\u001b[38;5;132;01m}\u001b[39;00m\u001b[38;5;124m, nBlockAlign = \u001b[39m\u001b[38;5;132;01m{\u001b[39;00mblock_align\u001b[38;5;132;01m}\u001b[39;00m\u001b[38;5;124m, and\u001b[39m\u001b[38;5;124m\"\u001b[39m\n\u001b[1;32m    393\u001b[0m                          \u001b[38;5;124mf\u001b[39m\u001b[38;5;124m\"\u001b[39m\u001b[38;5;124m nAvgBytesPerSec = \u001b[39m\u001b[38;5;132;01m{\u001b[39;00mbytes_per_second\u001b[38;5;132;01m}\u001b[39;00m\u001b[38;5;124m\"\u001b[39m)\n\u001b[1;32m    395\u001b[0m \u001b[38;5;28;01mreturn\u001b[39;00m (size, format_tag, channels, fs, bytes_per_second, block_align,\n\u001b[1;32m    396\u001b[0m         bit_depth)\n",
      "\u001b[0;31mValueError\u001b[0m: WAV header is invalid: nAvgBytesPerSec must equal product of nSamplesPerSec and nBlockAlign, but file has nSamplesPerSec = 14700, nBlockAlign = 0, and nAvgBytesPerSec = 1925038063"
     ]
    }
   ],
   "source": [
    "\n",
    "def graficar_señal(señal):\n",
    "    frecuencia_muestreo, datos  = wavfile.read(señal)\n",
    "    duracion = 200 # milisegundos\n",
    "    num_muestras = int(frecuencia_muestreo * duracion / 1000)\n",
    "    datos_recortados = datos[:num_muestras]\n",
    "    wavfile.write(\"recortado.wav\", frecuencia_muestreo, datos_recortados)\n",
    "    tiempo = np.arange(0, num_muestras) / frecuencia_muestreo\n",
    "\n",
    "    plt.figure(figsize=(10, 4))\n",
    "    plt.plot(tiempo, datos_recortados)\n",
    "    plt.title(f\"señal de {señal}\")\n",
    "    plt.xlabel('Tiempo (segundos)')\n",
    "    plt.ylabel('Amplitud')\n",
    "    plt.grid(True)\n",
    "    plt.show()\n",
    "\n",
    "\n",
    "\n",
    "\n",
    "\n",
    "# def graficar_señal_robusta(señal):\n",
    "#     try:\n",
    "#         # Cargar con librosa (más tolerante)\n",
    "#         datos, frecuencia_muestreo = librosa.load(señal, sr=None)\n",
    "#         duracion = 200  # milisegundos\n",
    "#         num_muestras = int(frecuencia_muestreo * duracion / 1000)\n",
    "#         datos_recortados = datos[:num_muestras]\n",
    "        \n",
    "#         # Guardar el archivo recortado\n",
    "#         sf.write(\"recortado.wav\", datos_recortados, frecuencia_muestreo)\n",
    "        \n",
    "#         # Crear vector de tiempo\n",
    "#         tiempo = np.arange(0, num_muestras) / frecuencia_muestreo\n",
    "        \n",
    "#         # Graficar\n",
    "#         plt.figure(figsize=(10, 4))\n",
    "#         plt.plot(tiempo, datos_recortados)\n",
    "#         plt.title(f\"Señal de {os.path.basename(señal)}\")\n",
    "#         plt.xlabel('Tiempo (segundos)')\n",
    "#         plt.ylabel('Amplitud')\n",
    "#         plt.grid(True)\n",
    "#         plt.show()\n",
    "        \n",
    "#         print(f\"Procesado exitoso: {señal}\")\n",
    "#         return True\n",
    "#     except Exception as e:\n",
    "#         print(f\"Error al procesar {señal}: {str(e)}\")\n",
    "#         return False\n",
    "    \n",
    "for vocal in vocales:\n",
    "    graficar_señal(vocal)\n",
    "for consonante in consonantes:\n",
    "    graficar_señal(consonante)"
   ]
  },
  {
   "cell_type": "markdown",
   "metadata": {},
   "source": []
  },
  {
   "cell_type": "code",
   "execution_count": null,
   "metadata": {},
   "outputs": [],
   "source": [
    "# sufs = {a: psd_pulsos(14700),e:, i: o: ,u: ,s: 1, sh: 1, f: 1, j: 1}"
   ]
  }
 ],
 "metadata": {
  "kernelspec": {
   "display_name": "Python 3",
   "language": "python",
   "name": "python3"
  },
  "language_info": {
   "codemirror_mode": {
    "name": "ipython",
    "version": 3
   },
   "file_extension": ".py",
   "mimetype": "text/x-python",
   "name": "python",
   "nbconvert_exporter": "python",
   "pygments_lexer": "ipython3",
   "version": "3.11.11"
  }
 },
 "nbformat": 4,
 "nbformat_minor": 2
}
